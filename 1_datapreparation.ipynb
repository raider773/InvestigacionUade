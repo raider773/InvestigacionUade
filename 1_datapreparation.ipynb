{
 "cells": [
  {
   "cell_type": "code",
   "execution_count": 1,
   "id": "fa3cba72",
   "metadata": {},
   "outputs": [],
   "source": [
    "import numpy as np\n",
    "import pandas as pd"
   ]
  },
  {
   "cell_type": "code",
   "execution_count": 2,
   "id": "95261dd7-8b42-40c1-b6e7-bbbd82cae733",
   "metadata": {},
   "outputs": [],
   "source": [
    "main_folder = \"data/proyectos/\"\n",
    "ref_folder = \"data/ref/\"\n",
    "extra_folder =  \"data/extra/\"\n",
    "years = [year for year in range(2008,2020,1)]\n",
    "extras = [\"beneficiario\",\"disciplina\",\"participante\"]\n",
    "refs = [\"disciplina\",\"estado_proyecto\",\"moneda\"]"
   ]
  },
  {
   "cell_type": "code",
   "execution_count": 3,
   "id": "9006a489-32bc-49d8-bbc2-6fa6f5e9cec8",
   "metadata": {},
   "outputs": [],
   "source": [
    "def get_main_data(main_folder):    \n",
    "    data = pd.DataFrame()\n",
    "    for year in years:    \n",
    "        current_data = pd.read_csv(f\"{main_folder}proyectos_{year}.csv\",delimiter = \";\")\n",
    "        current_data[\"year\"] = year\n",
    "        current_data[\"duration\"] = pd.to_datetime(current_data.fecha_finalizacion) - pd.to_datetime(current_data.fecha_inicio)         \n",
    "        current_data[\"amount_requested_awarded_difference\"] = current_data.monto_total_adjudicado  - current_data.monto_total_solicitado\n",
    "        current_data.drop(columns = [\"fecha_inicio\",\"fecha_finalizacion\",\"monto_financiado_solicitado\",\"monto_financiado_adjudicado\",\"codigo_identificacion\",\"fondo_anpcyt\",\"tipo_proyecto_id\"], inplace = True)\n",
    "        data = pd.concat([data, current_data], ignore_index=True)\n",
    "    return data"
   ]
  },
  {
   "cell_type": "code",
   "execution_count": 4,
   "id": "fed3b737-01c2-405d-b51d-96daeec8dbed",
   "metadata": {},
   "outputs": [],
   "source": [
    "def get_extra(data,extra_folder,extras):\n",
    "    #beneficiario\n",
    "    current_data = pd.read_csv(f\"{extra_folder}proyecto_{extras[0]}.csv\",delimiter = \";\")\n",
    "    current_data = current_data[[\"proyecto_id\",\"organizacion_id\"]].groupby(\"proyecto_id\").count().rename(columns = {\"organizacion_id\":\"amount_of_benefactors\"})\n",
    "    data = pd.merge(data, current_data, on='proyecto_id', how='inner')\n",
    "\n",
    "    #disiplina\n",
    "    current_data = pd.read_csv(f\"{extra_folder}proyecto_{extras[1]}.csv\",delimiter = \";\")\n",
    "    data = pd.merge(data, current_data, on='proyecto_id', how='inner') \n",
    "\n",
    "    #participantes\n",
    "    current_data = pd.read_csv(f\"{extra_folder}proyecto_{extras[2]}.csv\",delimiter = \";\")\n",
    "    grouped = current_data.groupby('proyecto_id')['funcion_id'].agg(list).reset_index()\n",
    "    unique_funcion_ids = sorted(set(current_data['funcion_id']))\n",
    "    counts = {f'funcion_id_{funcion_id}': [] for funcion_id in unique_funcion_ids}\n",
    "    for _, row in grouped.iterrows():\n",
    "        for funcion_id in unique_funcion_ids:\n",
    "            counts[f'funcion_id_{funcion_id}'].append(row['funcion_id'].count(funcion_id))\n",
    "    df_counts = pd.DataFrame(counts)\n",
    "    df_counts['proyecto_id'] = grouped['proyecto_id']\n",
    "    function_mapping = {\"funcion_id_1\":\"directores\",\"funcion_id_2\":\"investigadores\",\"funcion_id_3\":\"becarios\",\"funcion_id_4\":\"estudiantes\",\"funcion_id_5\":\"personales_tecnico_de_apoyo\",\"funcion_id_6\":\"co_directores\",\"funcion_id_-1\":\"unkowns\"}\n",
    "    df_counts.rename(columns = function_mapping,inplace = True)\n",
    "    df_counts[\"total_personel\"] = df_counts.drop(columns = [\"proyecto_id\"]).sum(axis = 1)\n",
    "    data = pd.merge(data, df_counts, on='proyecto_id', how='inner') \n",
    "    return data\n"
   ]
  },
  {
   "cell_type": "code",
   "execution_count": 5,
   "id": "f19a83a3-c977-4e12-82fe-2066096d839b",
   "metadata": {},
   "outputs": [],
   "source": [
    "def get_refs(data,ref_folder,refs):    \n",
    "    current_data = pd.read_csv(f\"{ref_folder}ref_{refs[0]}.csv\",delimiter = \";\")\n",
    "    id_mapping = current_data[[\"disciplina_id\",\"gran_area_descripcion\"]].set_index(\"disciplina_id\").to_dict()[\"gran_area_descripcion\"]\n",
    "    data[\"disciplina_id\"] = data['disciplina_id'].replace(id_mapping)\n",
    "    \n",
    "    \n",
    "    current_data = pd.read_csv(f\"{ref_folder}ref_{refs[1]}.csv\",delimiter = \";\")\n",
    "    id_mapping = current_data.set_index(\"id\").to_dict()[\"descripcion\"]\n",
    "    data[\"estado_id\"] = data['estado_id'].replace(id_mapping)\n",
    "    \n",
    "    current_data = pd.read_csv(f\"{ref_folder}ref_{refs[2]}.csv\",delimiter = \";\")\n",
    "    id_mapping = current_data[[\"moneda_id\",\"moneda_desc\"]].set_index(\"moneda_id\").to_dict()[\"moneda_desc\"]\n",
    "    data[\"moneda_id\"] = data['moneda_id'].replace(id_mapping)\n",
    "\n",
    "    return data"
   ]
  },
  {
   "cell_type": "code",
   "execution_count": 6,
   "id": "4935302a-836a-4213-bb89-4a68ad07f783",
   "metadata": {},
   "outputs": [],
   "source": [
    "data = get_main_data(main_folder)"
   ]
  },
  {
   "cell_type": "code",
   "execution_count": 7,
   "id": "1ed9b4b0-8532-440f-8804-ebb416def573",
   "metadata": {},
   "outputs": [],
   "source": [
    "data = get_extra(data,extra_folder,extras)"
   ]
  },
  {
   "cell_type": "code",
   "execution_count": 8,
   "id": "a1be45aa-b8aa-468c-8892-afe07c74e8e1",
   "metadata": {},
   "outputs": [],
   "source": [
    "data = get_refs(data,ref_folder,refs)"
   ]
  },
  {
   "cell_type": "code",
   "execution_count": 9,
   "id": "d8fa5f79-9ee3-4631-83dc-fc5269910640",
   "metadata": {},
   "outputs": [],
   "source": [
    "data.to_csv(\"data.csv\")"
   ]
  }
 ],
 "metadata": {
  "kernelspec": {
   "display_name": "Python 3 (ipykernel)",
   "language": "python",
   "name": "python3"
  },
  "language_info": {
   "codemirror_mode": {
    "name": "ipython",
    "version": 3
   },
   "file_extension": ".py",
   "mimetype": "text/x-python",
   "name": "python",
   "nbconvert_exporter": "python",
   "pygments_lexer": "ipython3",
   "version": "3.8.18"
  }
 },
 "nbformat": 4,
 "nbformat_minor": 5
}
